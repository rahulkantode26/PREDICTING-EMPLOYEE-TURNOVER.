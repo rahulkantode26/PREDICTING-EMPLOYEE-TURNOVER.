{
 "cells": [
  {
   "cell_type": "markdown",
   "metadata": {},
   "source": [
    "## Introduction"
   ]
  },
  {
   "cell_type": "markdown",
   "metadata": {},
   "source": [
    "This project presents a reference implementation to predict the probability if  whether an employee will leave or not. This project will make use of Python's Scikit-learn, Pandas and Numpy libraries. We also measure the accuracy of different models that are built by using Machine Learning, and assess the result for further development."
   ]
  },
  {
   "cell_type": "markdown",
   "metadata": {},
   "source": [
    "## Why this project?"
   ]
  },
  {
   "cell_type": "markdown",
   "metadata": {},
   "source": [
    "It is very costly for organizations, where costs include but not limited to: separation, vacancy, recruitment, training and replacement. On average, organizations invest between four weeks and three months training new employees. This investment would be a loss for the company if the new employee decided to leave the first year. Furthermore, organizations such as consulting firms would suffer from deterioration in customer satisfaction due to regular changes in Account Reps and/or consultants that would lead to loss of businesses with clients."
   ]
  },
  {
   "cell_type": "markdown",
   "metadata": {},
   "source": [
    "## What is Employment Turnover?"
   ]
  },
  {
   "cell_type": "markdown",
   "metadata": {},
   "source": [
    "In human resources context, turnover is the act of replacing an employee with a new employee. Partings between organizations and employees may consist of termination, retirement, death, interagency transfers, and resignations. An organization’s turnover is measured as a percentage rate, which is referred to as its turnover rate. Turnover rate is the percentage of employees in a workforce that leave during a certain period of time. Organizations and industries as a whole measure their turnover rate during a fiscal or calendar year."
   ]
  },
  {
   "cell_type": "markdown",
   "metadata": {},
   "source": [
    "## Dataset and it's features"
   ]
  },
  {
   "cell_type": "markdown",
   "metadata": {},
   "source": [
    " - satisfaction_level: Level of satisfaction {0–1}.\n",
    " - last_evaluationTime: Time since last performance evaluation (in years).\n",
    " - number_project: Number of projects completed while at work.\n",
    " - average_montly_hours: Average monthly hours at workplace.\n",
    " - time_spend_company: Number of years spent in the company.\n",
    " - Work_accident: Whether the employee had a workplace accident.\n",
    " - left: Whether the employee left the workplace or not {0, 1}.\n",
    " - promotion_last_5years: Whether the employee was promoted in the last five years.\n",
    " - sales: Department the employee works for.\n",
    " - salary: Relative level of salary {low, medium, high}."
   ]
  },
  {
   "cell_type": "markdown",
   "metadata": {},
   "source": [
    "## Importing Libraries and Dataset."
   ]
  },
  {
   "cell_type": "code",
   "execution_count": 1,
   "metadata": {},
   "outputs": [],
   "source": [
    "import numpy as np\n",
    "import pandas as pd\n",
    "import seaborn as sns\n",
    "from ipywidgets import *\n",
    "import matplotlib.pyplot as plt\n",
    "%matplotlib inline\n",
    "\n",
    "from sklearn.utils import resample\n",
    "from sklearn.model_selection import train_test_split, cross_val_score, GridSearchCV\n",
    "from sklearn.pipeline import make_pipeline\n",
    "from sklearn.preprocessing import StandardScaler\n",
    "from sklearn.decomposition import PCA\n",
    "from sklearn.ensemble import RandomForestClassifier, GradientBoostingClassifier\n",
    "from sklearn.neighbors import KNeighborsClassifier\n",
    "from sklearn.linear_model import LogisticRegression\n",
    "from sklearn.svm import SVC\n",
    "from sklearn.metrics import confusion_matrix, roc_auc_score, roc_curve\n",
    "from sklearn.externals import joblib\n",
    "\n",
    "# Util function(s)\n",
    "\n",
    "def print_matrix(model, X_test, y_test, xlabel='Predicted', ylabel='True class', title=''):\n",
    "    y_pred = model.predict(X_test)\n",
    "    matrix = confusion_matrix(y_pred, y_test, [1,0])\n",
    "    sns.heatmap(matrix, annot=True, fmt='.2f', xticklabels=['Left', 'Stayed'], yticklabels=['Left', 'Stayed'])\n",
    "    plt.ylabel(ylabel)\n",
    "    plt.xlabel(xlabel)\n",
    "    plt.title(title)\n",
    "    plt.show()\n",
    "    \n",
    "def print_roc(model, X_test, y_test, label='', xlabel='False Positive Rate', ylabel='True Positive Rate', title=''):\n",
    "    y_pred = model.predict_proba(X_test)[:, 1]\n",
    "    fpr_lm, tpr_lm, _ = roc_curve(y_test, y_pred)\n",
    "    plt.plot(fpr_lm, tpr_lm, label=label)\n",
    "    plt.plot([0, 1], [0, 1], 'k--')\n",
    "    plt.xlabel(xlabel)\n",
    "    plt.ylabel(ylabel)\n",
    "    plt.title(title)\n",
    "    plt.legend(loc='best')\n",
    "    plt.legend()\n",
    "    plt.grid()\n",
    "    plt.show()"
   ]
  },
  {
   "cell_type": "code",
   "execution_count": 2,
   "metadata": {},
   "outputs": [
    {
     "data": {
      "text/html": [
       "<div>\n",
       "<style scoped>\n",
       "    .dataframe tbody tr th:only-of-type {\n",
       "        vertical-align: middle;\n",
       "    }\n",
       "\n",
       "    .dataframe tbody tr th {\n",
       "        vertical-align: top;\n",
       "    }\n",
       "\n",
       "    .dataframe thead th {\n",
       "        text-align: right;\n",
       "    }\n",
       "</style>\n",
       "<table border=\"1\" class=\"dataframe\">\n",
       "  <thead>\n",
       "    <tr style=\"text-align: right;\">\n",
       "      <th></th>\n",
       "      <th>satisfaction_level</th>\n",
       "      <th>last_evaluation</th>\n",
       "      <th>number_project</th>\n",
       "      <th>average_montly_hours</th>\n",
       "      <th>time_spend_company</th>\n",
       "      <th>Work_accident</th>\n",
       "      <th>left</th>\n",
       "      <th>promotion_last_5years</th>\n",
       "      <th>sales</th>\n",
       "      <th>salary</th>\n",
       "    </tr>\n",
       "  </thead>\n",
       "  <tbody>\n",
       "    <tr>\n",
       "      <th>0</th>\n",
       "      <td>0.38</td>\n",
       "      <td>0.53</td>\n",
       "      <td>2</td>\n",
       "      <td>157</td>\n",
       "      <td>3</td>\n",
       "      <td>0</td>\n",
       "      <td>1</td>\n",
       "      <td>0</td>\n",
       "      <td>sales</td>\n",
       "      <td>low</td>\n",
       "    </tr>\n",
       "    <tr>\n",
       "      <th>1</th>\n",
       "      <td>0.80</td>\n",
       "      <td>0.86</td>\n",
       "      <td>5</td>\n",
       "      <td>262</td>\n",
       "      <td>6</td>\n",
       "      <td>0</td>\n",
       "      <td>1</td>\n",
       "      <td>0</td>\n",
       "      <td>sales</td>\n",
       "      <td>medium</td>\n",
       "    </tr>\n",
       "    <tr>\n",
       "      <th>2</th>\n",
       "      <td>0.11</td>\n",
       "      <td>0.88</td>\n",
       "      <td>7</td>\n",
       "      <td>272</td>\n",
       "      <td>4</td>\n",
       "      <td>0</td>\n",
       "      <td>1</td>\n",
       "      <td>0</td>\n",
       "      <td>sales</td>\n",
       "      <td>medium</td>\n",
       "    </tr>\n",
       "    <tr>\n",
       "      <th>3</th>\n",
       "      <td>0.72</td>\n",
       "      <td>0.87</td>\n",
       "      <td>5</td>\n",
       "      <td>223</td>\n",
       "      <td>5</td>\n",
       "      <td>0</td>\n",
       "      <td>1</td>\n",
       "      <td>0</td>\n",
       "      <td>sales</td>\n",
       "      <td>low</td>\n",
       "    </tr>\n",
       "    <tr>\n",
       "      <th>4</th>\n",
       "      <td>0.37</td>\n",
       "      <td>0.52</td>\n",
       "      <td>2</td>\n",
       "      <td>159</td>\n",
       "      <td>3</td>\n",
       "      <td>0</td>\n",
       "      <td>1</td>\n",
       "      <td>0</td>\n",
       "      <td>sales</td>\n",
       "      <td>low</td>\n",
       "    </tr>\n",
       "  </tbody>\n",
       "</table>\n",
       "</div>"
      ],
      "text/plain": [
       "   satisfaction_level  last_evaluation  number_project  average_montly_hours  \\\n",
       "0                0.38             0.53               2                   157   \n",
       "1                0.80             0.86               5                   262   \n",
       "2                0.11             0.88               7                   272   \n",
       "3                0.72             0.87               5                   223   \n",
       "4                0.37             0.52               2                   159   \n",
       "\n",
       "   time_spend_company  Work_accident  left  promotion_last_5years  sales  \\\n",
       "0                   3              0     1                      0  sales   \n",
       "1                   6              0     1                      0  sales   \n",
       "2                   4              0     1                      0  sales   \n",
       "3                   5              0     1                      0  sales   \n",
       "4                   3              0     1                      0  sales   \n",
       "\n",
       "   salary  \n",
       "0     low  \n",
       "1  medium  \n",
       "2  medium  \n",
       "3     low  \n",
       "4     low  "
      ]
     },
     "execution_count": 2,
     "metadata": {},
     "output_type": "execute_result"
    }
   ],
   "source": [
    "# Get data from csv into DataFrame.\n",
    "dFrame = pd.read_csv('HR_comma_sep.csv', sep = ',')\n",
    "df = dFrame\n",
    "df.head()"
   ]
  },
  {
   "cell_type": "markdown",
   "metadata": {},
   "source": [
    "## Data Preprocessing"
   ]
  },
  {
   "cell_type": "code",
   "execution_count": 3,
   "metadata": {},
   "outputs": [
    {
     "name": "stdout",
     "output_type": "stream",
     "text": [
      "Data types:\n",
      "satisfaction_level       float64\n",
      "last_evaluation          float64\n",
      "number_project             int64\n",
      "average_montly_hours       int64\n",
      "time_spend_company         int64\n",
      "Work_accident              int64\n",
      "left                       int64\n",
      "promotion_last_5years      int64\n",
      "sales                     object\n",
      "salary                    object\n",
      "dtype: object\n",
      "\n",
      "Null values\n",
      "satisfaction_level       0\n",
      "last_evaluation          0\n",
      "number_project           0\n",
      "average_montly_hours     0\n",
      "time_spend_company       0\n",
      "Work_accident            0\n",
      "left                     0\n",
      "promotion_last_5years    0\n",
      "sales                    0\n",
      "salary                   0\n",
      "dtype: int64\n"
     ]
    }
   ],
   "source": [
    "#check datatype for each row and check if there are any null values\n",
    "print 'Data types:'\n",
    "print df.dtypes\n",
    "print\n",
    "print 'Null values'\n",
    "print df.isnull().sum()"
   ]
  },
  {
   "cell_type": "code",
   "execution_count": 4,
   "metadata": {},
   "outputs": [],
   "source": [
    "# Rename sales feature into department\n",
    "df = df.rename(columns={\"sales\": \"department\"})\n",
    "dFrame = dFrame.rename(columns={\"sales\": \"department\"})\n",
    "# Map salary into integers\n",
    "salary_map = {\"low\": 0, \"medium\": 1, \"high\": 2}\n",
    "df[\"salary\"] = df[\"salary\"].map(salary_map)"
   ]
  },
  {
   "cell_type": "code",
   "execution_count": 5,
   "metadata": {},
   "outputs": [
    {
     "data": {
      "text/html": [
       "<div>\n",
       "<style scoped>\n",
       "    .dataframe tbody tr th:only-of-type {\n",
       "        vertical-align: middle;\n",
       "    }\n",
       "\n",
       "    .dataframe tbody tr th {\n",
       "        vertical-align: top;\n",
       "    }\n",
       "\n",
       "    .dataframe thead th {\n",
       "        text-align: right;\n",
       "    }\n",
       "</style>\n",
       "<table border=\"1\" class=\"dataframe\">\n",
       "  <thead>\n",
       "    <tr style=\"text-align: right;\">\n",
       "      <th></th>\n",
       "      <th>satisfaction_level</th>\n",
       "      <th>last_evaluation</th>\n",
       "      <th>number_project</th>\n",
       "      <th>average_montly_hours</th>\n",
       "      <th>time_spend_company</th>\n",
       "      <th>Work_accident</th>\n",
       "      <th>left</th>\n",
       "      <th>promotion_last_5years</th>\n",
       "      <th>department</th>\n",
       "      <th>salary</th>\n",
       "    </tr>\n",
       "  </thead>\n",
       "  <tbody>\n",
       "    <tr>\n",
       "      <th>0</th>\n",
       "      <td>0.38</td>\n",
       "      <td>0.53</td>\n",
       "      <td>2</td>\n",
       "      <td>157</td>\n",
       "      <td>3</td>\n",
       "      <td>0</td>\n",
       "      <td>1</td>\n",
       "      <td>0</td>\n",
       "      <td>sales</td>\n",
       "      <td>0</td>\n",
       "    </tr>\n",
       "    <tr>\n",
       "      <th>1</th>\n",
       "      <td>0.80</td>\n",
       "      <td>0.86</td>\n",
       "      <td>5</td>\n",
       "      <td>262</td>\n",
       "      <td>6</td>\n",
       "      <td>0</td>\n",
       "      <td>1</td>\n",
       "      <td>0</td>\n",
       "      <td>sales</td>\n",
       "      <td>1</td>\n",
       "    </tr>\n",
       "    <tr>\n",
       "      <th>2</th>\n",
       "      <td>0.11</td>\n",
       "      <td>0.88</td>\n",
       "      <td>7</td>\n",
       "      <td>272</td>\n",
       "      <td>4</td>\n",
       "      <td>0</td>\n",
       "      <td>1</td>\n",
       "      <td>0</td>\n",
       "      <td>sales</td>\n",
       "      <td>1</td>\n",
       "    </tr>\n",
       "    <tr>\n",
       "      <th>3</th>\n",
       "      <td>0.72</td>\n",
       "      <td>0.87</td>\n",
       "      <td>5</td>\n",
       "      <td>223</td>\n",
       "      <td>5</td>\n",
       "      <td>0</td>\n",
       "      <td>1</td>\n",
       "      <td>0</td>\n",
       "      <td>sales</td>\n",
       "      <td>0</td>\n",
       "    </tr>\n",
       "    <tr>\n",
       "      <th>4</th>\n",
       "      <td>0.37</td>\n",
       "      <td>0.52</td>\n",
       "      <td>2</td>\n",
       "      <td>159</td>\n",
       "      <td>3</td>\n",
       "      <td>0</td>\n",
       "      <td>1</td>\n",
       "      <td>0</td>\n",
       "      <td>sales</td>\n",
       "      <td>0</td>\n",
       "    </tr>\n",
       "  </tbody>\n",
       "</table>\n",
       "</div>"
      ],
      "text/plain": [
       "   satisfaction_level  last_evaluation  number_project  average_montly_hours  \\\n",
       "0                0.38             0.53               2                   157   \n",
       "1                0.80             0.86               5                   262   \n",
       "2                0.11             0.88               7                   272   \n",
       "3                0.72             0.87               5                   223   \n",
       "4                0.37             0.52               2                   159   \n",
       "\n",
       "   time_spend_company  Work_accident  left  promotion_last_5years department  \\\n",
       "0                   3              0     1                      0      sales   \n",
       "1                   6              0     1                      0      sales   \n",
       "2                   4              0     1                      0      sales   \n",
       "3                   5              0     1                      0      sales   \n",
       "4                   3              0     1                      0      sales   \n",
       "\n",
       "   salary  \n",
       "0       0  \n",
       "1       1  \n",
       "2       1  \n",
       "3       0  \n",
       "4       0  "
      ]
     },
     "execution_count": 5,
     "metadata": {},
     "output_type": "execute_result"
    }
   ],
   "source": [
    "df.head()"
   ]
  },
  {
   "cell_type": "markdown",
   "metadata": {},
   "source": [
    "## Data Exploration"
   ]
  },
  {
   "cell_type": "code",
   "execution_count": 6,
   "metadata": {},
   "outputs": [
    {
     "data": {
      "text/html": [
       "<div>\n",
       "<style scoped>\n",
       "    .dataframe tbody tr th:only-of-type {\n",
       "        vertical-align: middle;\n",
       "    }\n",
       "\n",
       "    .dataframe tbody tr th {\n",
       "        vertical-align: top;\n",
       "    }\n",
       "\n",
       "    .dataframe thead th {\n",
       "        text-align: right;\n",
       "    }\n",
       "</style>\n",
       "<table border=\"1\" class=\"dataframe\">\n",
       "  <thead>\n",
       "    <tr style=\"text-align: right;\">\n",
       "      <th></th>\n",
       "      <th>satisfaction_level</th>\n",
       "      <th>last_evaluation</th>\n",
       "      <th>number_project</th>\n",
       "      <th>average_montly_hours</th>\n",
       "      <th>time_spend_company</th>\n",
       "      <th>Work_accident</th>\n",
       "      <th>promotion_last_5years</th>\n",
       "      <th>salary</th>\n",
       "    </tr>\n",
       "    <tr>\n",
       "      <th>left</th>\n",
       "      <th></th>\n",
       "      <th></th>\n",
       "      <th></th>\n",
       "      <th></th>\n",
       "      <th></th>\n",
       "      <th></th>\n",
       "      <th></th>\n",
       "      <th></th>\n",
       "    </tr>\n",
       "  </thead>\n",
       "  <tbody>\n",
       "    <tr>\n",
       "      <th>0</th>\n",
       "      <td>0.666810</td>\n",
       "      <td>0.715473</td>\n",
       "      <td>3.786664</td>\n",
       "      <td>199.060203</td>\n",
       "      <td>3.380032</td>\n",
       "      <td>0.175009</td>\n",
       "      <td>0.026251</td>\n",
       "      <td>0.650945</td>\n",
       "    </tr>\n",
       "    <tr>\n",
       "      <th>1</th>\n",
       "      <td>0.440098</td>\n",
       "      <td>0.718113</td>\n",
       "      <td>3.855503</td>\n",
       "      <td>207.419210</td>\n",
       "      <td>3.876505</td>\n",
       "      <td>0.047326</td>\n",
       "      <td>0.005321</td>\n",
       "      <td>0.414730</td>\n",
       "    </tr>\n",
       "  </tbody>\n",
       "</table>\n",
       "</div>"
      ],
      "text/plain": [
       "      satisfaction_level  last_evaluation  number_project  \\\n",
       "left                                                        \n",
       "0               0.666810         0.715473        3.786664   \n",
       "1               0.440098         0.718113        3.855503   \n",
       "\n",
       "      average_montly_hours  time_spend_company  Work_accident  \\\n",
       "left                                                            \n",
       "0               199.060203            3.380032       0.175009   \n",
       "1               207.419210            3.876505       0.047326   \n",
       "\n",
       "      promotion_last_5years    salary  \n",
       "left                                   \n",
       "0                  0.026251  0.650945  \n",
       "1                  0.005321  0.414730  "
      ]
     },
     "execution_count": 6,
     "metadata": {},
     "output_type": "execute_result"
    }
   ],
   "source": [
    "# Understanding the two classes i.e Left and employee stayed.\n",
    "df.groupby('left').mean()"
   ]
  },
  {
   "cell_type": "markdown",
   "metadata": {},
   "source": [
    "## Several observations:\n",
    "\n",
    " - The average satisfaction level of employees who stayed with the company is higher than that of the employees who left.\n",
    " - The average monthly work hours of employees who left the company is more than that of the employees who stayed.\n",
    " - The employees who had workplace accidents are less likely to leave than that of the employee who did not have workplace \n",
    "   accidents.\n",
    " - The employees who were promoted in the last five years are less likely to leave than those who did not get a promotion in the \n",
    "   last five years."
   ]
  },
  {
   "cell_type": "code",
   "execution_count": 7,
   "metadata": {},
   "outputs": [
    {
     "data": {
      "image/png": "[encoded data removed]",
      "text/plain": [
       "<Figure size 432x288 with 1 Axes>"
      ]
     },
     "metadata": {},
     "output_type": "display_data"
    }
   ],
   "source": [
    "pd.crosstab(df.department,df.left).plot(kind='bar')\n",
    "plt.title('Turnover Frequency for Department')\n",
    "plt.xlabel('Department')\n",
    "plt.ylabel('Frequency of Turnover')\n",
    "plt.show()"
   ]
  },
  {
   "cell_type": "code",
   "execution_count": 8,
   "metadata": {},
   "outputs": [
    {
     "data": {
      "image/png": "[encoded data removed]",
      "text/plain": [
       "<Figure size 432x288 with 1 Axes>"
      ]
     },
     "metadata": {},
     "output_type": "display_data"
    }
   ],
   "source": [
    "table=pd.crosstab(df.salary, df.left)\n",
    "table.div(table.sum(1).astype(float), axis=0).plot(kind='bar', stacked=True)\n",
    "plt.xticks((0, 1, 2), [\"High\", \"Low\", \"Medium\"])\n",
    "plt.title('Stacked Bar Chart of Salary Level vs Turnover')\n",
    "plt.xlabel('Salary Level')\n",
    "plt.ylabel('Proportion of Employees')\n",
    "plt.show()"
   ]
  },
  {
   "cell_type": "code",
   "execution_count": 9,
   "metadata": {},
   "outputs": [],
   "source": [
    "# Create dummy variables for department feature\n",
    "df = pd.get_dummies(df, columns=[\"department\"], drop_first=True)"
   ]
  },
  {
   "cell_type": "code",
   "execution_count": 10,
   "metadata": {},
   "outputs": [
    {
     "data": {
      "image/png": "[encoded data removed]",
      "text/plain": [
       "<Figure size 432x288 with 1 Axes>"
      ]
     },
     "metadata": {},
     "output_type": "display_data"
    }
   ],
   "source": [
    "# Get the number of employees who left the company and those who didn’t\n",
    "sns.countplot(df[\"left\"])\n",
    "plt.xticks((0, 1), [\"Didn't leave\", \"Left\"])\n",
    "plt.xlabel(\"Left\")\n",
    "plt.ylabel(\"Count\")\n",
    "plt.title(\"Class counts\")\n",
    "plt.show()"
   ]
  },
  {
   "cell_type": "markdown",
   "metadata": {},
   "source": [
    "As the graph shows, we have an imbalanced dataset. Moreover, class imbalance influences a learning algorithm during training by making the decision rule biased towards the majority class by implicitly learns a model that optimizes the predictions based on the majority class in the dataset. "
   ]
  },
  {
   "cell_type": "code",
   "execution_count": 11,
   "metadata": {},
   "outputs": [
    {
     "name": "stdout",
     "output_type": "stream",
     "text": [
      "Original shape: (11999L, 17L) (11999L,)\n",
      "Upsampled shape: (18284L, 17L) (18284L,)\n"
     ]
    }
   ],
   "source": [
    "# Convert dataframe into numpy objects and split them into train and test sets: 80/20\n",
    "X = df.loc[:, df.columns != \"left\"].values\n",
    "y = df.loc[:, df.columns == \"left\"].values.flatten()\n",
    "\n",
    "# Original minority class\n",
    "X_train, X_test, y_train, y_test = train_test_split(X, y, test_size=0.2, stratify=y, random_state=1)\n",
    "\n",
    "# Upsample minority class\n",
    "X_train_u, y_train_u = resample(X_train[y_train == 1],\n",
    "                                y_train[y_train == 1],\n",
    "                                replace=True,\n",
    "                                n_samples=X_train[y_train == 0].shape[0],\n",
    "                                random_state=1)\n",
    "X_train_u = np.concatenate((X_train[y_train == 0], X_train_u))\n",
    "y_train_u = np.concatenate((y_train[y_train == 0], y_train_u))\n",
    "\n",
    "print \"Original shape:\", X_train.shape, y_train.shape \n",
    "print \"Upsampled shape:\", X_train_u.shape, y_train_u.shape "
   ]
  },
  {
   "cell_type": "markdown",
   "metadata": {},
   "source": [
    "## Random Forest"
   ]
  },
  {
   "cell_type": "code",
   "execution_count": 12,
   "metadata": {},
   "outputs": [
    {
     "name": "stdout",
     "output_type": "stream",
     "text": [
      "The best hyperparameters for Upsampled data:\n",
      "min_samples_leaf : 1\n",
      "n_estimators : 50\n",
      "criterion : entropy\n",
      "max_features : 0.4\n",
      "Best 10-folds CV f1-score: 99.80%.\n",
      "\n",
      "The best hyperparameters for Original data:\n",
      "min_samples_leaf : 1\n",
      "n_estimators : 500\n",
      "criterion : gini\n",
      "max_features : 0.5\n",
      "Best 10-folds CV f1-score: 98.19%.\n",
      "\n"
     ]
    }
   ],
   "source": [
    "# Build random forest classifier\n",
    "methods_data = {\"Original\": (X_train, y_train),\n",
    "                \"Upsampled\": (X_train_u, y_train_u)}\n",
    "\n",
    "for method in methods_data.keys():\n",
    "    pip_rf = make_pipeline(StandardScaler(), RandomForestClassifier(n_estimators=500, class_weight=\"balanced\", random_state=123))\n",
    "    \n",
    "    hyperparam_grid = {\n",
    "        'randomforestclassifier__n_estimators': [10, 50, 100, 500],\n",
    "        'randomforestclassifier__max_features': [\"sqrt\", \"log2\", 0.4, 0.5],\n",
    "        'randomforestclassifier__min_samples_leaf': [1, 3, 5],\n",
    "        'randomforestclassifier__criterion': [\"gini\", \"entropy\"]}\n",
    "    \n",
    "    gs_rf = GridSearchCV(pip_rf,\n",
    "                         hyperparam_grid,\n",
    "                         scoring='f1',\n",
    "                         cv=10,\n",
    "                         n_jobs=-1)\n",
    "    \n",
    "    gs_rf.fit(methods_data[method][0], methods_data[method][1])\n",
    "\n",
    "    print 'The best hyperparameters for {} data:'.format(method)\n",
    "    for hyperparam in gs_rf.best_params_.keys():\n",
    "        print hyperparam[hyperparam.find('__') + 2:], ':', gs_rf.best_params_[hyperparam]   \n",
    "    \n",
    "    print 'Best 10-folds CV f1-score: {:.2f}%.'.format(gs_rf.best_score_ * 100)\n",
    "    filename = 'random_forest_model_{:.2f}.sav'.format(gs_rf.best_score_ * 100)\n",
    "    joblib.dump(gs_rf, filename)\n",
    "    print "
   ]
  },
  {
   "cell_type": "code",
   "execution_count": 13,
   "metadata": {},
   "outputs": [
    {
     "data": {
      "image/png": "[encoded data removed]",
      "text/plain": [
       "<Figure size 432x288 with 2 Axes>"
      ]
     },
     "metadata": {},
     "output_type": "display_data"
    },
    {
     "data": {
      "image/png": "[encoded data removed]",
      "text/plain": [
       "<Figure size 432x288 with 1 Axes>"
      ]
     },
     "metadata": {},
     "output_type": "display_data"
    }
   ],
   "source": [
    "print_matrix(gs_rf, X_test, y_test, title='Random Forest')\n",
    "print_roc(gs_rf, X_test, y_test,'Random Forest')"
   ]
  },
  {
   "cell_type": "markdown",
   "metadata": {},
   "source": [
    "## Gradient Boosting Trees"
   ]
  },
  {
   "cell_type": "code",
   "execution_count": 14,
   "metadata": {},
   "outputs": [
    {
     "name": "stdout",
     "output_type": "stream",
     "text": [
      "The best hyperparameters:\n",
      "learning_rate :  0.1\n",
      "max_features :  0.5\n",
      "n_estimators :  500\n",
      "max_depth :  3\n",
      "Best 10-folds CV f1-score: 95.84%.\n"
     ]
    },
    {
     "data": {
      "text/plain": [
       "['gradient_boosting_model.sav']"
      ]
     },
     "execution_count": 14,
     "metadata": {},
     "output_type": "execute_result"
    }
   ],
   "source": [
    "# Build Gradient Boosting classifier\n",
    "pip_gb = make_pipeline(StandardScaler(), GradientBoostingClassifier(loss='deviance', random_state=123))\n",
    "\n",
    "hyperparam_grid = {'gradientboostingclassifier__max_features': ['log2', 0.5],\n",
    "                   'gradientboostingclassifier__n_estimators': [100, 300, 500],\n",
    "                   'gradientboostingclassifier__learning_rate': [0.001, 0.01, 0.1],\n",
    "                   'gradientboostingclassifier__max_depth': [1, 2, 3]}\n",
    "\n",
    "gs_gb = GridSearchCV(pip_gb,\n",
    "                      param_grid=hyperparam_grid,\n",
    "                      scoring='f1',\n",
    "                      cv=10,\n",
    "                      n_jobs=-1)\n",
    "\n",
    "gs_gb.fit(X_train, y_train)\n",
    "\n",
    "print 'The best hyperparameters:'\n",
    "for hyperparam in gs_gb.best_params_.keys():\n",
    "    print hyperparam[hyperparam.find('__') + 2:], ': ', gs_gb.best_params_[hyperparam]\n",
    "print 'Best 10-folds CV f1-score: {:.2f}%.'.format(gs_gb.best_score_ * 100)\n",
    "filename = 'gradient_boosting_model.sav'\n",
    "joblib.dump(gs_gb, filename)"
   ]
  },
  {
   "cell_type": "code",
   "execution_count": 15,
   "metadata": {},
   "outputs": [
    {
     "data": {
      "image/png": "[encoded data removed]",
      "text/plain": [
       "<Figure size 432x288 with 2 Axes>"
      ]
     },
     "metadata": {},
     "output_type": "display_data"
    },
    {
     "data": {
      "image/png": "[encoded data removed]",
      "text/plain": [
       "<Figure size 432x288 with 1 Axes>"
      ]
     },
     "metadata": {},
     "output_type": "display_data"
    }
   ],
   "source": [
    "print_matrix(gs_gb, X_test, y_test, title='Gradient Boosting')\n",
    "print_roc(gs_gb, X_test, y_test,'Gradient Boosting')"
   ]
  },
  {
   "cell_type": "markdown",
   "metadata": {},
   "source": [
    "## K-Nearest Neighbors"
   ]
  },
  {
   "cell_type": "code",
   "execution_count": 16,
   "metadata": {},
   "outputs": [
    {
     "name": "stdout",
     "output_type": "stream",
     "text": [
      "The best hyperparameters:\n",
      "-------------------------\n",
      "n_neighbors : 1\n",
      "weights : uniform\n",
      "Best 10-folds CV f1-score: 92.87%.\n"
     ]
    },
    {
     "data": {
      "text/plain": [
       "['k_nearest_model.sav']"
      ]
     },
     "execution_count": 16,
     "metadata": {},
     "output_type": "execute_result"
    }
   ],
   "source": [
    "# Build KNN classifier\n",
    "pip_knn = make_pipeline(StandardScaler(), KNeighborsClassifier())\n",
    "hyperparam_range = range(1, 20)\n",
    "gs_knn = GridSearchCV(pip_knn,\n",
    "                      param_grid={'kneighborsclassifier__n_neighbors': hyperparam_range,\n",
    "                                  'kneighborsclassifier__weights': ['uniform', 'distance']},\n",
    "                      scoring='f1',\n",
    "                      cv=10,\n",
    "                      n_jobs=-1)\n",
    "gs_knn.fit(X_train, y_train)\n",
    "print 'The best hyperparameters:'\n",
    "print '-' * 25\n",
    "for hyperparam in gs_knn.best_params_.keys():\n",
    "    print hyperparam[hyperparam.find(\"__\") + 2:], ':', gs_knn.best_params_[hyperparam] \n",
    "print 'Best 10-folds CV f1-score: {:.2f}%.'.format((gs_knn.best_score_) * 100)\n",
    "filename = 'k_nearest_model.sav'\n",
    "joblib.dump(gs_knn, filename)"
   ]
  },
  {
   "cell_type": "code",
   "execution_count": 17,
   "metadata": {},
   "outputs": [
    {
     "data": {
      "image/png": "[encoded data removed]",
      "text/plain": [
       "<Figure size 432x288 with 2 Axes>"
      ]
     },
     "metadata": {},
     "output_type": "display_data"
    },
    {
     "data": {
      "image/png": "[encoded data removed]",
      "text/plain": [
       "<Figure size 432x288 with 1 Axes>"
      ]
     },
     "metadata": {},
     "output_type": "display_data"
    }
   ],
   "source": [
    "print_matrix(gs_knn, X_test, y_test, title='K-Nearest Neighbors')\n",
    "print_roc(gs_knn, X_test, y_test,'K-Nearest Neighbors')"
   ]
  },
  {
   "cell_type": "markdown",
   "metadata": {},
   "source": [
    "## Logistic Regression"
   ]
  },
  {
   "cell_type": "code",
   "execution_count": 18,
   "metadata": {},
   "outputs": [
    {
     "name": "stdout",
     "output_type": "stream",
     "text": [
      "The best hyperparameters:\n",
      "-------------------------\n",
      "penalty : l1\n",
      "fit_intercept : True\n",
      "C : 0.5\n",
      "Best 10-folds CV f1-score: 75.46%.\n"
     ]
    },
    {
     "data": {
      "text/plain": [
       "['logistic_reg_model.sav']"
      ]
     },
     "execution_count": 18,
     "metadata": {},
     "output_type": "execute_result"
    }
   ],
   "source": [
    "# Build logistic model classifier\n",
    "pip_logmod = make_pipeline(StandardScaler(),\n",
    "                           LogisticRegression(class_weight='balanced'))\n",
    "hyperparam_range = np.arange(0.5, 20.1, 0.5)\n",
    "hyperparam_grid = {'logisticregression__penalty': ['l1', 'l2'],\n",
    "                   'logisticregression__C':  hyperparam_range,\n",
    "                   'logisticregression__fit_intercept': [True, False]\n",
    "                  }\n",
    "gs_logmodel = GridSearchCV(pip_logmod,\n",
    "                           hyperparam_grid,\n",
    "                           scoring='accuracy',\n",
    "                           cv=2,\n",
    "                           n_jobs=-1)\n",
    "gs_logmodel.fit(X_train, y_train)\n",
    "print 'The best hyperparameters:'\n",
    "print '-' * 25\n",
    "for hyperparam in gs_logmodel.best_params_.keys():\n",
    "    print hyperparam[hyperparam.find(\"__\") + 2:], ':', gs_logmodel.best_params_[hyperparam]\n",
    "print 'Best 10-folds CV f1-score: {:.2f}%.'.format(gs_logmodel.best_score_ * 100)\n",
    "filename = 'logistic_reg_model.sav'\n",
    "joblib.dump(gs_logmodel, filename)"
   ]
  },
  {
   "cell_type": "code",
   "execution_count": 19,
   "metadata": {},
   "outputs": [
    {
     "data": {
      "image/png": "[encoded data removed]",
      "text/plain": [
       "<Figure size 432x288 with 2 Axes>"
      ]
     },
     "metadata": {},
     "output_type": "display_data"
    },
    {
     "data": {
      "image/png": "[encoded data removed]",
      "text/plain": [
       "<Figure size 432x288 with 1 Axes>"
      ]
     },
     "metadata": {},
     "output_type": "display_data"
    }
   ],
   "source": [
    "print_matrix(gs_logmodel, X_test, y_test, title='Logistic Regression')\n",
    "print_roc(gs_logmodel, X_test, y_test,'Logistic Regression')"
   ]
  },
  {
   "cell_type": "markdown",
   "metadata": {},
   "source": [
    "## Support Vector Machine (SVM)"
   ]
  },
  {
   "cell_type": "code",
   "execution_count": 20,
   "metadata": {},
   "outputs": [
    {
     "name": "stdout",
     "output_type": "stream",
     "text": [
      "The 10-folds CV f1-score is: 92.18%\n"
     ]
    },
    {
     "data": {
      "text/plain": [
       "['svm_model.sav']"
      ]
     },
     "execution_count": 20,
     "metadata": {},
     "output_type": "execute_result"
    }
   ],
   "source": [
    "# Build SVM classifier\n",
    "clf_svc = make_pipeline(StandardScaler(),\n",
    "                        SVC(C=0.01,\n",
    "                            gamma=0.1,\n",
    "                            kernel='poly',\n",
    "                            degree=5,\n",
    "                            coef0=10,\n",
    "                            probability=True))\n",
    "clf_svc.fit(X_train, y_train)\n",
    "svc_cv_scores = cross_val_score(clf_svc,\n",
    "                                X=X_train,\n",
    "                                y=y_train,\n",
    "                                scoring='f1',\n",
    "                                cv=10,\n",
    "                                n_jobs=-1)\n",
    "# Print CV\n",
    "print 'The 10-folds CV f1-score is: {:.2f}%'.format(np.mean(svc_cv_scores) * 100)\n",
    "filename = 'svm_model.sav'\n",
    "joblib.dump(clf_svc, filename)"
   ]
  },
  {
   "cell_type": "code",
   "execution_count": 21,
   "metadata": {},
   "outputs": [
    {
     "data": {
      "image/png": "[encoded data removed]",
      "text/plain": [
       "<Figure size 432x288 with 2 Axes>"
      ]
     },
     "metadata": {},
     "output_type": "display_data"
    },
    {
     "data": {
      "image/png": "[encoded data removed]",
      "text/plain": [
       "<Figure size 432x288 with 1 Axes>"
      ]
     },
     "metadata": {},
     "output_type": "display_data"
    }
   ],
   "source": [
    "print_matrix(clf_svc, X_test, y_test, title='Support Vector Machine')\n",
    "print_roc(clf_svc, X_test, y_test,'Support Vector Machine')"
   ]
  },
  {
   "cell_type": "markdown",
   "metadata": {},
   "source": [
    "## Conclusion"
   ]
  },
  {
   "cell_type": "markdown",
   "metadata": {},
   "source": [
    "Now we'll create a roc curve. The receiver operating characteristic (ROC) curve is another common tool used with binary classifiers. The dotted line represents the ROC curve of a purely random classifier; a good classifier stays as far away from that line as possible."
   ]
  },
  {
   "cell_type": "code",
   "execution_count": 22,
   "metadata": {},
   "outputs": [
    {
     "data": {
      "image/png": "[encoded data removed]",
      "text/plain": [
       "<Figure size 432x288 with 1 Axes>"
      ]
     },
     "metadata": {},
     "output_type": "display_data"
    }
   ],
   "source": [
    "# Create roc curve\n",
    "y_pred_rf = gs_rf.predict_proba(X_test)[:, 1]\n",
    "fpr_rf_lm, tpr_rf_lm, _ = roc_curve(y_test, y_pred_rf)\n",
    "plt.plot(fpr_rf_lm, tpr_rf_lm, label='Random Forest')\n",
    "\n",
    "y_pred_gb = gs_gb.predict_proba(X_test)[:, 1]\n",
    "fpr_gb_lm, tpr_gb_lm, _ = roc_curve(y_test, y_pred_gb)\n",
    "plt.plot(fpr_gb_lm, tpr_gb_lm, label='Gradient Boosting Tree')\n",
    "\n",
    "y_pred_knn = gs_knn.predict_proba(X_test)[:, 1]\n",
    "fpr_knn_lm, tpr_knn_lm, _ = roc_curve(y_test, y_pred_knn)\n",
    "plt.plot(fpr_knn_lm, tpr_knn_lm, label='K-Nearest')\n",
    "\n",
    "y_pred_logmodel = gs_logmodel.predict_proba(X_test)[:, 1]\n",
    "fpr_logmodel_lm, tpr_logmodel_lm, _ = roc_curve(y_test, y_pred_logmodel)\n",
    "plt.plot(fpr_logmodel_lm, tpr_logmodel_lm, label='Logistic Regression')\n",
    "\n",
    "y_pred_scv = clf_svc.predict_proba(X_test)[:, 1]\n",
    "fpr_scv_lm, tpr_scv_lm, _ = roc_curve(y_test, y_pred_scv)\n",
    "plt.plot(fpr_scv_lm, tpr_scv_lm, label='SVM')\n",
    "\n",
    "plt.plot([0, 1], [0, 1], 'k--')\n",
    "plt.xlabel('False positive rate')\n",
    "plt.ylabel('True positive rate')\n",
    "plt.title('ROC curve')\n",
    "plt.legend(loc='best')\n",
    "plt.legend()\n",
    "plt.show()"
   ]
  },
  {
   "cell_type": "markdown",
   "metadata": {},
   "source": [
    "## Feature Importance"
   ]
  },
  {
   "cell_type": "code",
   "execution_count": 23,
   "metadata": {},
   "outputs": [
    {
     "data": {
      "image/png": "[encoded data removed]",
      "text/plain": [
       "<Figure size 432x288 with 1 Axes>"
      ]
     },
     "metadata": {},
     "output_type": "display_data"
    }
   ],
   "source": [
    "filename = 'random_forest_model_99.80.sav'\n",
    "best_model = joblib.load(filename)\n",
    "\n",
    "features = best_model.best_estimator_.steps[1][1].feature_importances_\n",
    "\n",
    "imp_features = pd.Series(data=features[:10], index=dFrame.columns)\n",
    "imp_features.sort_values(ascending=False, inplace=True)\n",
    "imp_features.plot(kind='bar')\n",
    "plt.show()"
   ]
  },
  {
   "cell_type": "code",
   "execution_count": 24,
   "metadata": {},
   "outputs": [
    {
     "data": {
      "text/html": [
       "<div>\n",
       "<style scoped>\n",
       "    .dataframe tbody tr th:only-of-type {\n",
       "        vertical-align: middle;\n",
       "    }\n",
       "\n",
       "    .dataframe tbody tr th {\n",
       "        vertical-align: top;\n",
       "    }\n",
       "\n",
       "    .dataframe thead th {\n",
       "        text-align: right;\n",
       "    }\n",
       "</style>\n",
       "<table border=\"1\" class=\"dataframe\">\n",
       "  <thead>\n",
       "    <tr style=\"text-align: right;\">\n",
       "      <th></th>\n",
       "      <th>satisfaction_level</th>\n",
       "      <th>last_evaluation</th>\n",
       "      <th>number_project</th>\n",
       "      <th>average_montly_hours</th>\n",
       "      <th>time_spend_company</th>\n",
       "      <th>Work_accident</th>\n",
       "      <th>left</th>\n",
       "      <th>promotion_last_5years</th>\n",
       "      <th>department</th>\n",
       "      <th>salary</th>\n",
       "      <th>Prediction</th>\n",
       "    </tr>\n",
       "  </thead>\n",
       "  <tbody>\n",
       "    <tr>\n",
       "      <th>0</th>\n",
       "      <td>0.38</td>\n",
       "      <td>0.53</td>\n",
       "      <td>2</td>\n",
       "      <td>157</td>\n",
       "      <td>3</td>\n",
       "      <td>0</td>\n",
       "      <td>1</td>\n",
       "      <td>0</td>\n",
       "      <td>sales</td>\n",
       "      <td>low</td>\n",
       "      <td>1.0</td>\n",
       "    </tr>\n",
       "    <tr>\n",
       "      <th>1</th>\n",
       "      <td>0.80</td>\n",
       "      <td>0.86</td>\n",
       "      <td>5</td>\n",
       "      <td>262</td>\n",
       "      <td>6</td>\n",
       "      <td>0</td>\n",
       "      <td>1</td>\n",
       "      <td>0</td>\n",
       "      <td>sales</td>\n",
       "      <td>medium</td>\n",
       "      <td>1.0</td>\n",
       "    </tr>\n",
       "    <tr>\n",
       "      <th>2</th>\n",
       "      <td>0.11</td>\n",
       "      <td>0.88</td>\n",
       "      <td>7</td>\n",
       "      <td>272</td>\n",
       "      <td>4</td>\n",
       "      <td>0</td>\n",
       "      <td>1</td>\n",
       "      <td>0</td>\n",
       "      <td>sales</td>\n",
       "      <td>medium</td>\n",
       "      <td>1.0</td>\n",
       "    </tr>\n",
       "    <tr>\n",
       "      <th>3</th>\n",
       "      <td>0.72</td>\n",
       "      <td>0.87</td>\n",
       "      <td>5</td>\n",
       "      <td>223</td>\n",
       "      <td>5</td>\n",
       "      <td>0</td>\n",
       "      <td>1</td>\n",
       "      <td>0</td>\n",
       "      <td>sales</td>\n",
       "      <td>low</td>\n",
       "      <td>1.0</td>\n",
       "    </tr>\n",
       "    <tr>\n",
       "      <th>4</th>\n",
       "      <td>0.37</td>\n",
       "      <td>0.52</td>\n",
       "      <td>2</td>\n",
       "      <td>159</td>\n",
       "      <td>3</td>\n",
       "      <td>0</td>\n",
       "      <td>1</td>\n",
       "      <td>0</td>\n",
       "      <td>sales</td>\n",
       "      <td>low</td>\n",
       "      <td>1.0</td>\n",
       "    </tr>\n",
       "  </tbody>\n",
       "</table>\n",
       "</div>"
      ],
      "text/plain": [
       "   satisfaction_level  last_evaluation  number_project  average_montly_hours  \\\n",
       "0                0.38             0.53               2                   157   \n",
       "1                0.80             0.86               5                   262   \n",
       "2                0.11             0.88               7                   272   \n",
       "3                0.72             0.87               5                   223   \n",
       "4                0.37             0.52               2                   159   \n",
       "\n",
       "   time_spend_company  Work_accident  left  promotion_last_5years department  \\\n",
       "0                   3              0     1                      0      sales   \n",
       "1                   6              0     1                      0      sales   \n",
       "2                   4              0     1                      0      sales   \n",
       "3                   5              0     1                      0      sales   \n",
       "4                   3              0     1                      0      sales   \n",
       "\n",
       "   salary  Prediction  \n",
       "0     low         1.0  \n",
       "1  medium         1.0  \n",
       "2  medium         1.0  \n",
       "3     low         1.0  \n",
       "4     low         1.0  "
      ]
     },
     "execution_count": 24,
     "metadata": {},
     "output_type": "execute_result"
    }
   ],
   "source": [
    "y_pred = best_model.predict_proba(X)[:, 1]\n",
    "\n",
    "dFrame['Prediction'] = y_pred\n",
    "dFrame.head()"
   ]
  },
  {
   "cell_type": "markdown",
   "metadata": {},
   "source": [
    "## Deployment of Model"
   ]
  },
  {
   "cell_type": "code",
   "execution_count": 25,
   "metadata": {},
   "outputs": [],
   "source": [
    "from sklearn.externals import joblib\n",
    "import numpy\n",
    "ilename = 'random_forest_model_99.80.sav'\n",
    "best_model = joblib.load(filename)\n",
    "\n",
    "submit = Button(description='Predict Now!')\n",
    "\n",
    "form_item = [\n",
    "    FloatSlider(min=0., max =1., step= 0.005, value = 0., description='satisfaction_level'),\n",
    "    FloatSlider(min=0., max =1., step= 0.005, value = 0., description='last_evaluation'),\n",
    "    IntSlider(min=0, max=10, description='number_project'),\n",
    "    IntSlider(min=80, max=400, description='average_montly_hours'),\n",
    "    IntSlider(min=0, max=15, description='time_spend_company'),\n",
    "    IntSlider(min=0, max=1, description='Work_accident'),\n",
    "    IntSlider(min=0, max=1, description='promotion_last_5years'),\n",
    "    Dropdown(options=['sales', 'technical', 'support', 'IT', 'product_mng', 'marketing', 'RandD', \n",
    "                      'accounting', 'hr', 'management'], description='department'),\n",
    "    Dropdown(options=['High', 'Medium', 'Low'], description='salary'),\n",
    "]\n",
    "\n",
    "def switch_salary(label):\n",
    "    switcher = {\n",
    "        'High':2,\n",
    "        'Medium':1,\n",
    "        'Low':0\n",
    "    }\n",
    "    return switcher.get(label, 'Invalid')\n",
    "\n",
    "def switch_department(label):\n",
    "    switcher = {\n",
    "        'sales':[0,0,0,0,0,0,1,0,0],\n",
    "        'technical':[0,0,0,0,0,0,0,0,1],\n",
    "        'support':[0,0,0,0,0,0,0,1,0],\n",
    "        'IT':[0,0,0,0,0,0,0,0,0],\n",
    "        'product_mng':[0,0,0,0,0,1,0,0,0],\n",
    "        'marketing':[0,0,0,0,1,0,0,0,0],\n",
    "        'RandD':[1,0,0,0,0,0,0,0,0],\n",
    "        'accounting':[0,1,0,0,0,0,0,0,0],\n",
    "        'hr':[0,0,1,0,0,0,0,0,0],\n",
    "        'management':[0,0,0,1,0,0,0,0,0]\n",
    "    }\n",
    "    return switcher.get(label, 'Invalid')\n",
    "\n",
    "def on_button_clicked(b):\n",
    "    emp_row = []\n",
    "    for widget in form_item:\n",
    "        value = widget.value\n",
    "        if widget.description == 'salary':\n",
    "            value = switch_salary(value)\n",
    "        emp_row.append(value)\n",
    "    department = emp_row.pop(7)\n",
    "    for i in switch_department(department):\n",
    "        emp_row.append(i)\n",
    "    y_pred = best_model.predict_proba(numpy.array(emp_row).reshape(1, -1))[:, 1]\n",
    "    print '{:.2f} is the Probability the following employee will leave'.format(float(y_pred))\n",
    "\n",
    "form = Box(form_item, layout=Layout(flex_flow='column'))\n",
    "submit.on_click(on_button_clicked)"
   ]
  },
  {
   "cell_type": "code",
   "execution_count": 26,
   "metadata": {},
   "outputs": [
    {
     "data": {
      "application/vnd.jupyter.widget-view+json": {
       "model_id": "20796282656b42698284c8dd1e0491bc",
       "version_major": 2,
       "version_minor": 0
      },
      "text/plain": [
       "Qm94KGNoaWxkcmVuPShGbG9hdFNsaWRlcih2YWx1ZT0wLjAsIGRlc2NyaXB0aW9uPXUnc2F0aXNmYWN0aW9uX2xldmVsJywgbWF4PTEuMCwgc3RlcD0wLjAwNSksIEZsb2F0U2xpZGVyKHZhbHXigKY=\n"
      ]
     },
     "metadata": {},
     "output_type": "display_data"
    },
    {
     "data": {
      "application/vnd.jupyter.widget-view+json": {
       "model_id": "bf6645aac3e74739ab29862edc0c780f",
       "version_major": 2,
       "version_minor": 0
      },
      "text/plain": [
       "Button(description=u'Predict Now!', style=ButtonStyle())"
      ]
     },
     "metadata": {},
     "output_type": "display_data"
    }
   ],
   "source": [
    "display(form, submit)"
   ]
  }
 ],
 "metadata": {
  "kernelspec": {
   "display_name": "Python [default]",
   "language": "python",
   "name": "python2"
  },
  "language_info": {
   "codemirror_mode": {
    "name": "ipython",
    "version": 2
   },
   "file_extension": ".py",
   "mimetype": "text/x-python",
   "name": "python",
   "nbconvert_exporter": "python",
   "pygments_lexer": "ipython2",
   "version": "2.7.15"
  }
 },
 "nbformat": 4,
 "nbformat_minor": 2
}
